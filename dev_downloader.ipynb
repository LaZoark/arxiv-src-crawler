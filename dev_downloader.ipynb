{
 "cells": [
  {
   "cell_type": "code",
   "execution_count": 1,
   "metadata": {},
   "outputs": [],
   "source": [
    "from typing import Union, List, Dict\n",
    "from tqdm.auto import tqdm\n",
    "import pandas as pd\n",
    "from pathlib import Path\n",
    "import arxiv\n",
    "from os import system as system_command\n",
    "import time\n",
    "import datetime\n",
    "\n",
    "import requests\n",
    "\n",
    "# part_paper_dict = download_src(arxiv_id=paper_id_list, basepath=PATH_TO_DOWNLOAD)\n"
   ]
  },
  {
   "cell_type": "code",
   "execution_count": 2,
   "metadata": {},
   "outputs": [],
   "source": [
    "def download_source_safe(dirpath: str=\"./\",\n",
    "                         filename: str=\"\"\n",
    "                         ) :\n",
    "  '''\n",
    "  Downloads the source tarfile for this result to the specified directory.\\n\n",
    "  Please take `filename` as `arxiv_id`. (e.g., 1112.0097v1)\n",
    "  \n",
    "  This is the improvement for the `download_source` in `arxiv` package.\n",
    "  '''\n",
    "  \n",
    "  base_url = \"https://arxiv.org/src/\"\n",
    "  response = requests.get(base_url + filename)\n",
    "  \n",
    "  download_to_path = Path(dirpath).joinpath(filename) if filename != \"\" \\\n",
    "    else response.headers[\"content-disposition\"].split(\"filename=\")[-1].strip(\"\\\"\")\n",
    "  with open(download_to_path, \"wb\") as file:\n",
    "    file.write(response.content)\n",
    "  \n",
    "  return str(download_to_path.absolute())"
   ]
  },
  {
   "cell_type": "code",
   "execution_count": 3,
   "metadata": {},
   "outputs": [
    {
     "data": {
      "text/plain": [
       "'/home/lazoark/OneDrive/Curriculum/NLP_2024/CLEF2024/arxiv-src-crawler/1112/1112.0097v1'"
      ]
     },
     "execution_count": 3,
     "metadata": {},
     "output_type": "execute_result"
    }
   ],
   "source": [
    "# download_source(dirpath=Path(basepath).joinpath(paper_id.split(\".\")[0]), filename=paper_id)\n",
    "basepath = \".\"\n",
    "paper_id = \"1112.0097v1\"\n",
    "# Path(paper_id.split(\".\")[0]).mkdir()\n",
    "download_source_safe(dirpath=Path(basepath).joinpath(paper_id.split(\".\")[0]), filename=paper_id)\n",
    "\n"
   ]
  },
  {
   "cell_type": "code",
   "execution_count": null,
   "metadata": {},
   "outputs": [],
   "source": []
  }
 ],
 "metadata": {
  "kernelspec": {
   "display_name": ".venv",
   "language": "python",
   "name": "python3"
  },
  "language_info": {
   "codemirror_mode": {
    "name": "ipython",
    "version": 3
   },
   "file_extension": ".py",
   "mimetype": "text/x-python",
   "name": "python",
   "nbconvert_exporter": "python",
   "pygments_lexer": "ipython3",
   "version": "3.10.12"
  }
 },
 "nbformat": 4,
 "nbformat_minor": 2
}
